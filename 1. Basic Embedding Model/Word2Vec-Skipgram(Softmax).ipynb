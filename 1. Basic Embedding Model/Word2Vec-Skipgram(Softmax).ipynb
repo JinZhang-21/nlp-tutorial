{
 "cells": [
  {
   "cell_type": "code",
   "execution_count": 1,
   "metadata": {},
   "outputs": [
    {
     "name": "stderr",
     "output_type": "stream",
     "text": [
      "e:\\apps\\anaconda\\envs\\dl\\lib\\site-packages\\tqdm\\auto.py:21: TqdmWarning: IProgress not found. Please update jupyter and ipywidgets. See https://ipywidgets.readthedocs.io/en/stable/user_install.html\n",
      "  from .autonotebook import tqdm as notebook_tqdm\n"
     ]
    }
   ],
   "source": [
    "import numpy as np\n",
    "import torch\n",
    "import torch.nn as nn\n",
    "import torch.optim as optim\n",
    "import matplotlib.pyplot as plt"
   ]
  },
  {
   "cell_type": "markdown",
   "metadata": {},
   "source": [
    "### Skip-gram 模型的工作原理\n",
    "\n",
    "1. **基本思想**：\n",
    "   - 给定一个特定的单词，Skip-gram 模型的目标是预测其上下文中的单词。具体来说，模型试图预测在给定中心词（target word）的情况下，周围各个位置的单词是什么。\n",
    "\n",
    "2. **输入和输出**：\n",
    "   - **输入**：中心词（目标词）。\n",
    "   - **输出**：上下文中的单词。上下文的大小通常由一个参数定义，称为窗口大小（window size）。\n",
    "\n",
    "3. **训练过程**：\n",
    "   - 对于训练集中的每个单词，模型考虑窗口内的周围单词，并试图预测它们。\n",
    "   - 模型通常使用神经网络，网络中没有隐藏层（或者只有一个很小的隐藏层），输入层和输出层通过词向量连接。\n",
    "\n",
    "4. **词嵌入（Word Embeddings）**：\n",
    "   - 通过训练，模型学习到的词向量即为词嵌入。这些向量捕捉了词汇的语义特征，相似的词在向量空间中彼此接近。\n",
    "\n",
    "5. **优化**：\n",
    "   - 训练过程中，通常使用负采样（negative sampling）或层次 softmax（hierarchical softmax）来优化性能，特别是在词汇量很大的情况下。\n",
    "\n",
    "### Skip-gram 模型的优点\n",
    "\n",
    "1. **捕捉远程关系**：\n",
    "   - Skip-gram 模型擅长捕捉更广泛的上下文信息，因此对于含有大量数据的大型语料库来说非常有效。\n",
    "\n",
    "2. **高质量的词嵌入**：\n",
    "   - 得到的词嵌入质量高，特别是对于频繁出现的单词。\n"
   ]
  },
  {
   "cell_type": "code",
   "execution_count": 2,
   "metadata": {},
   "outputs": [],
   "source": [
    "batch_size = 2 # mini-batch size\n",
    "embedding_size = 2 # embedding size\n",
    "\n",
    "sentences = [\"apple banana fruit\", \"banana orange fruit\", \"orange banana fruit\",\n",
    "                \"dog cat animal\", \"cat monkey animal\", \"monkey dog animal\"]\n",
    "\n",
    "word_sequence = \" \".join(sentences).split()\n",
    "word_list = \" \".join(sentences).split()\n",
    "word_list = list(set(word_list))\n",
    "word_dict = {w: i for i, w in enumerate(word_list)}\n",
    "voc_size = len(word_list)\n",
    "\n",
    "# Make skip gram of one size window\n",
    "skip_grams = []\n",
    "for i in range(1, len(word_sequence) - 1):\n",
    "    target = word_dict[word_sequence[i]]\n",
    "    context = [word_dict[word_sequence[i - 1]], word_dict[word_sequence[i + 1]]]\n",
    "    # !注意这里上下文窗口！！！\n",
    "    for w in context:\n",
    "        skip_grams.append([target, w])"
   ]
  },
  {
   "cell_type": "code",
   "execution_count": 5,
   "metadata": {},
   "outputs": [],
   "source": [
    "def random_batch():\n",
    "    random_inputs = []\n",
    "    random_labels = []\n",
    "    # 第一个为抽样的序列，第二个参数指定抽样的数目， 第三个参数指定抽样元素是否可以重复\n",
    "    random_index = np.random.choice(range(len(skip_grams)), batch_size, replace=False)\n",
    "\n",
    "    for i in random_index:\n",
    "        # *这里是妙手！独热妙手！\n",
    "        random_inputs.append(np.eye(voc_size)[skip_grams[i][0]])  # target\n",
    "        random_labels.append(skip_grams[i][1])  # context word\n",
    "\n",
    "    return random_inputs, random_labels"
   ]
  },
  {
   "cell_type": "code",
   "execution_count": 7,
   "metadata": {},
   "outputs": [],
   "source": [
    "# Model\n",
    "class Word2Vec(nn.Module):\n",
    "    def __init__(self):\n",
    "        super(Word2Vec, self).__init__()\n",
    "        # W and WT is not Traspose relationship\n",
    "        self.W = nn.Linear(voc_size, embedding_size, bias=False) # voc_size > embedding_size Weight\n",
    "        self.WT = nn.Linear(embedding_size, voc_size, bias=False) # embedding_size > voc_size Weight\n",
    "\n",
    "    def forward(self, X):\n",
    "        # X : [batch_size, voc_size]\n",
    "        hidden_layer = self.W(X) # hidden_layer : [batch_size, embedding_size]\n",
    "        output_layer = self.WT(hidden_layer) # output_layer : [batch_size, voc_size]\n",
    "        return output_layer"
   ]
  },
  {
   "cell_type": "code",
   "execution_count": 8,
   "metadata": {},
   "outputs": [],
   "source": [
    "model = Word2Vec()\n",
    "\n",
    "criterion = nn.CrossEntropyLoss()\n",
    "optimizer = optim.Adam(model.parameters(), lr=0.001)"
   ]
  },
  {
   "cell_type": "code",
   "execution_count": 9,
   "metadata": {},
   "outputs": [
    {
     "name": "stderr",
     "output_type": "stream",
     "text": [
      "C:\\Users\\hellow\\AppData\\Local\\Temp\\ipykernel_18208\\3121481632.py:4: UserWarning: Creating a tensor from a list of numpy.ndarrays is extremely slow. Please consider converting the list to a single numpy.ndarray with numpy.array() before converting to a tensor. (Triggered internally at C:\\actions-runner\\_work\\pytorch\\pytorch\\builder\\windows\\pytorch\\torch\\csrc\\utils\\tensor_new.cpp:233.)\n",
      "  input_batch = torch.Tensor(input_batch)\n"
     ]
    },
    {
     "name": "stdout",
     "output_type": "stream",
     "text": [
      "Epoch: 1000 cost = 1.819231\n",
      "Epoch: 2000 cost = 1.903309\n",
      "Epoch: 3000 cost = 1.113725\n",
      "Epoch: 4000 cost = 0.883874\n",
      "Epoch: 5000 cost = 0.700056\n"
     ]
    }
   ],
   "source": [
    "# Training\n",
    "for epoch in range(5000):\n",
    "    input_batch, target_batch = random_batch()\n",
    "    input_batch = torch.Tensor(input_batch)\n",
    "    target_batch = torch.LongTensor(target_batch)\n",
    "\n",
    "    optimizer.zero_grad()\n",
    "    output = model(input_batch)\n",
    "\n",
    "    # output : [batch_size, voc_size], target_batch : [batch_size] (LongTensor, not one-hot)\n",
    "    loss = criterion(output, target_batch)\n",
    "    if (epoch + 1) % 1000 == 0:\n",
    "        print('Epoch:', '%04d' % (epoch + 1), 'cost =', '{:.6f}'.format(loss))\n",
    "\n",
    "    loss.backward()\n",
    "    optimizer.step()"
   ]
  },
  {
   "cell_type": "code",
   "execution_count": 10,
   "metadata": {},
   "outputs": [
    {
     "data": {
      "image/png": "[encoded data removed]",
      "text/plain": [
       "<Figure size 640x480 with 1 Axes>"
      ]
     },
     "metadata": {},
     "output_type": "display_data"
    }
   ],
   "source": [
    "for i, label in enumerate(word_list):\n",
    "    W, WT = model.parameters()\n",
    "    x, y = W[0][i].item(), W[1][i].item()\n",
    "    plt.scatter(x, y) # 在散点图上绘制了(x,y)这个点\n",
    "    plt.annotate(label, xy=(x, y), xytext=(5, 2), textcoords='offset points', ha='right', va='bottom') # 在每个点旁边添加了一个注释\n",
    "    # 注释内容是label，\n",
    "plt.show()"
   ]
  }
 ],
 "metadata": {
  "kernelspec": {
   "display_name": "dl",
   "language": "python",
   "name": "python3"
  },
  "language_info": {
   "codemirror_mode": {
    "name": "ipython",
    "version": 3
   },
   "file_extension": ".py",
   "mimetype": "text/x-python",
   "name": "python",
   "nbconvert_exporter": "python",
   "pygments_lexer": "ipython3",
   "version": "3.9.15"
  }
 },
 "nbformat": 4,
 "nbformat_minor": 2
}
